{
 "cells": [
  {
   "cell_type": "markdown",
   "metadata": {},
   "source": [
    "# Project 3\n",
    "\n",
    "## introduction\n",
    "\n",
    "This notebook contains my model for performing the behavioral cloning necessary to let a simulated car drive down an unkown track.\n",
    "\n",
    "## objective\n",
    "\n",
    "The objective of the assignment is to gain data by driving down \"track 1\". This data will be used to train a model in such a way that it can clone the behavior and drive down the track itself. In the end the model should be strong enough to drive down an unkown track as well."
   ]
  },
  {
   "cell_type": "markdown",
   "metadata": {},
   "source": [
    "## to do list\n",
    "\n",
    "- Obtain \"good\" training data\n",
    "- Smooth out steering angles in training data, to prevent jitter\n",
    "- Start by creating the network used by the NVIDIA self-driving car (https://devblogs.nvidia.com/parallelforall/deep-learning-self-driving-cars/)\n",
    "- normalize data\n",
    "- Augment data\n",
    "    - tranform images to create a more balanced set\n",
    "    - add shadows to train the model in less than perfect lighting\n",
    "- Check performance and start tweeking network and hyper parameters"
   ]
  },
  {
   "cell_type": "code",
   "execution_count": 25,
   "metadata": {
    "collapsed": false
   },
   "outputs": [],
   "source": [
    "## Import global packages\n",
    "import numpy as np\n",
    "import matplotlib.pyplot as plt\n",
    "import cv2\n",
    "import csv\n",
    "import pickle\n",
    "from tqdm import *\n",
    "import random\n",
    "from pathlib import Path\n",
    "import json"
   ]
  },
  {
   "cell_type": "code",
   "execution_count": 2,
   "metadata": {
    "collapsed": true
   },
   "outputs": [],
   "source": [
    "## Global configuration\n",
    "data_path = './data/1/'\n",
    "throttle_threshold = 0.2 # Data beneath this threshold will be removed"
   ]
  },
  {
   "cell_type": "markdown",
   "metadata": {},
   "source": [
    "## Load data\n",
    "\n",
    "I start with loading the data from the CSV file and plotting it to get a sense of the steering angle."
   ]
  },
  {
   "cell_type": "code",
   "execution_count": 3,
   "metadata": {
    "collapsed": false
   },
   "outputs": [
    {
     "name": "stdout",
     "output_type": "stream",
     "text": [
      "No. angles = 931\n",
      "No. images = 931\n",
      "\n",
      "ANGLE INFORMATION:\n",
      "Max angle = 0.500\n",
      "Min angle = -0.592\n",
      "Mean angle = -0.040\n",
      "\n",
      "DONE: Loading angles and image locations\n"
     ]
    },
    {
     "data": {
      "text/plain": [
       "(-1, 1)"
      ]
     },
     "execution_count": 3,
     "metadata": {},
     "output_type": "execute_result"
    },
    {
     "data": {
      "image/png": "[encoded data removed]",
      "text/plain": [
       "<matplotlib.figure.Figure at 0x10f978198>"
      ]
     },
     "metadata": {},
     "output_type": "display_data"
    }
   ],
   "source": [
    "## Load steering angles and images\n",
    "csv_path = data_path + 'driving_log.csv'\n",
    "steering_angles = []\n",
    "images = []\n",
    "\n",
    "with open(csv_path) as csvfile:\n",
    "    reader = csv.reader(csvfile, delimiter=',')\n",
    "    for row in reader:\n",
    "        if float(row[4]) > throttle_threshold:\n",
    "            steering_angles.append(row[3])\n",
    "            images.append(row[0])\n",
    "    steering_angles = np.array(steering_angles, dtype=np.float32)\n",
    "\n",
    "print(\"No. angles = {}\".format(len(steering_angles)))\n",
    "print(\"No. images = {}\".format(len(images)))\n",
    "print()\n",
    "print(\"ANGLE INFORMATION:\")\n",
    "print(\"Max angle = {:.3f}\".format(np.max(steering_angles)))\n",
    "print(\"Min angle = {:.3f}\".format(np.min(steering_angles)))\n",
    "print(\"Mean angle = {:.3f}\".format(np.mean(steering_angles)))\n",
    "print()\n",
    "print(\"DONE: Loading angles and image locations\")\n",
    "\n",
    "## Plot angle line to check smoothness\n",
    "%matplotlib inline\n",
    "\n",
    "figure = plt.figure(figsize=(16,5))\n",
    "plt.plot(np.arange(len(steering_angles)), steering_angles)\n",
    "plt.xlabel(\"Frame\")\n",
    "plt.ylabel(\"Angle\")\n",
    "plt.ylim(-1,1)"
   ]
  },
  {
   "cell_type": "code",
   "execution_count": 4,
   "metadata": {
    "collapsed": true
   },
   "outputs": [],
   "source": [
    "## Load and normalize the images\n",
    "def load_image(image_path):\n",
    "    image = cv2.imread(image_path)\n",
    "    image = cv2.cvtColor(image,cv2.COLOR_BGR2RGB)\n",
    "    return image\n",
    "\n",
    "def normalize_image(image):\n",
    "    return image/255.-.5"
   ]
  },
  {
   "cell_type": "code",
   "execution_count": 5,
   "metadata": {
    "collapsed": false
   },
   "outputs": [
    {
     "name": "stdout",
     "output_type": "stream",
     "text": [
      "Before normalization:\n",
      "MIN: 0.000\n",
      "MAX: 255.000\n",
      "\n",
      "After normalization:\n",
      "MIN: -0.500\n",
      "MAX: 0.500\n"
     ]
    }
   ],
   "source": [
    "## Check normalization\n",
    "test_image = load_image(images[0])\n",
    "print(\"Before normalization:\")\n",
    "print(\"MIN: {:.3f}\".format(np.min(test_image)))\n",
    "print(\"MAX: {:.3f}\".format(np.max(test_image)))\n",
    "print()\n",
    "normalized_test_image = normalize_image(test_image)\n",
    "print(\"After normalization:\")\n",
    "print(\"MIN: {:.3f}\".format(np.min(normalized_test_image)))\n",
    "print(\"MAX: {:.3f}\".format(np.max(normalized_test_image)))"
   ]
  },
  {
   "cell_type": "code",
   "execution_count": 6,
   "metadata": {
    "collapsed": false
   },
   "outputs": [
    {
     "data": {
      "text/plain": [
       "<matplotlib.image.AxesImage at 0x11b891a90>"
      ]
     },
     "execution_count": 6,
     "metadata": {},
     "output_type": "execute_result"
    },
    {
     "data": {
      "image/png": "[encoded data removed]",
      "text/plain": [
       "<matplotlib.figure.Figure at 0x11b8eeef0>"
      ]
     },
     "metadata": {},
     "output_type": "display_data"
    }
   ],
   "source": [
    "## Plot the normalized test image\n",
    "figure = plt.figure(figsize=(2,2))\n",
    "plt.imshow(normalized_test_image)"
   ]
  },
  {
   "cell_type": "code",
   "execution_count": 106,
   "metadata": {
    "collapsed": false
   },
   "outputs": [
    {
     "name": "stderr",
     "output_type": "stream",
     "text": [
      "100%|██████████| 931/931 [06:44<00:00,  1.07it/s]"
     ]
    },
    {
     "name": "stdout",
     "output_type": "stream",
     "text": [
      "IMAGES LOADED = 931\n"
     ]
    },
    {
     "name": "stderr",
     "output_type": "stream",
     "text": [
      "\n"
     ]
    }
   ],
   "source": [
    "## Load all images and normalize them\n",
    "X_train = None\n",
    "for image in tqdm(images):\n",
    "    img = load_image(image)\n",
    "    img = normalize_image(img)\n",
    "    if X_train is None:\n",
    "        X_train = np.array([img], dtype=np.float32)\n",
    "    else:\n",
    "        X_train = np.append(X_train, [img], axis=0)\n",
    "\n",
    "print(\"IMAGES LOADED = {}\".format(len(X_train)))"
   ]
  },
  {
   "cell_type": "code",
   "execution_count": 7,
   "metadata": {
    "collapsed": false
   },
   "outputs": [
    {
     "ename": "NameError",
     "evalue": "name 'X_train' is not defined",
     "output_type": "error",
     "traceback": [
      "\u001b[0;31m---------------------------------------------------------------------------\u001b[0m",
      "\u001b[0;31mNameError\u001b[0m                                 Traceback (most recent call last)",
      "\u001b[0;32m<ipython-input-7-86abac80ebda>\u001b[0m in \u001b[0;36m<module>\u001b[0;34m()\u001b[0m\n\u001b[1;32m      1\u001b[0m \u001b[0;31m## Save training data to file to avoid re-processing images\u001b[0m\u001b[0;34m\u001b[0m\u001b[0;34m\u001b[0m\u001b[0m\n\u001b[1;32m      2\u001b[0m training_data = {\n\u001b[0;32m----> 3\u001b[0;31m     \u001b[0;34m'features'\u001b[0m\u001b[0;34m:\u001b[0m \u001b[0mX_train\u001b[0m\u001b[0;34m,\u001b[0m\u001b[0;34m\u001b[0m\u001b[0m\n\u001b[0m\u001b[1;32m      4\u001b[0m     \u001b[0;34m'labels'\u001b[0m\u001b[0;34m:\u001b[0m \u001b[0msteering_angles\u001b[0m\u001b[0;34m,\u001b[0m\u001b[0;34m\u001b[0m\u001b[0m\n\u001b[1;32m      5\u001b[0m }\n",
      "\u001b[0;31mNameError\u001b[0m: name 'X_train' is not defined"
     ]
    }
   ],
   "source": [
    "## Save training data to file to avoid re-processing images\n",
    "training_data = {\n",
    "    'features': X_train,\n",
    "    'labels': steering_angles,\n",
    "}\n",
    "\n",
    "pickle.dump(training_data, open( \"./saved/train.p\", \"wb\" ) )\n",
    "print(\"Data saved to train.p file\")"
   ]
  },
  {
   "cell_type": "code",
   "execution_count": 7,
   "metadata": {
    "collapsed": true
   },
   "outputs": [],
   "source": [
    "## Load training data\n",
    "with open('./saved/train.p', mode='rb') as f:\n",
    "    train = pickle.load(f)\n",
    "    \n",
    "X_train, y_train = train['features'], train['labels']"
   ]
  },
  {
   "cell_type": "code",
   "execution_count": 8,
   "metadata": {
    "collapsed": false
   },
   "outputs": [
    {
     "name": "stdout",
     "output_type": "stream",
     "text": [
      "Shape of train set = (931, 160, 320, 3)\n"
     ]
    },
    {
     "data": {
      "text/plain": [
       "<matplotlib.image.AxesImage at 0x11dd2ab70>"
      ]
     },
     "execution_count": 8,
     "metadata": {},
     "output_type": "execute_result"
    },
    {
     "data": {
      "image/png": "[encoded data removed]",
      "text/plain": [
       "<matplotlib.figure.Figure at 0x11b857898>"
      ]
     },
     "metadata": {},
     "output_type": "display_data"
    }
   ],
   "source": [
    "## Plot a random image from the train set\n",
    "figure = plt.figure(figsize=(2,2))\n",
    "random_image = random.randint(0, len(X_train))\n",
    "print(\"Shape of train set = {}\".format(X_train.shape))\n",
    "plt.imshow(X_train[random_image])"
   ]
  },
  {
   "cell_type": "markdown",
   "metadata": {},
   "source": [
    "## The Network\n",
    "\n",
    "for the network architecture I have looked at NVIDIA's end-to-end network for self driving cars (https://devblogs.nvidia.com/parallelforall/deep-learning-self-driving-cars/) I have copied the network as described in the blogpost to Keras."
   ]
  },
  {
   "cell_type": "code",
   "execution_count": 22,
   "metadata": {
    "collapsed": false
   },
   "outputs": [],
   "source": [
    "## Import Keras necessity's\n",
    "import tensorflow as tf\n",
    "from keras.models import Sequential\n",
    "from keras.layers.core import Dense, Dropout, Activation, Lambda\n",
    "from keras.layers import Input, ELU\n",
    "from keras.optimizers import SGD, Adam, RMSprop\n",
    "from keras.layers import Convolution2D, MaxPooling2D, Flatten\n",
    "from keras.layers.normalization import BatchNormalization"
   ]
  },
  {
   "cell_type": "code",
   "execution_count": 18,
   "metadata": {
    "collapsed": true
   },
   "outputs": [],
   "source": [
    "## Hyper parameters\n",
    "learning_rate = 0.001\n",
    "batch_size = 128\n",
    "epochs = 5\n",
    "keep_prob = 0.5"
   ]
  },
  {
   "cell_type": "code",
   "execution_count": 19,
   "metadata": {
    "collapsed": false
   },
   "outputs": [],
   "source": [
    "## Define model\n",
    "\n",
    "input_shape = (160, 320, 3) # Define the input shape for the network\n",
    "\n",
    "model = Sequential()\n",
    "\n",
    "# Normalization layer, normalize data with GPU power\n",
    "model.add(Lambda(lambda x: x/255.-0.5,input_shape=input_shape))\n",
    "\n",
    "# 1st Convolution 5x5 filter, 2x2 stride\n",
    "model.add(Convolution2D(3, 5, 5, activation='relu', border_mode='valid', subsample=(2,2), init='he_normal', name='conv_1'))\n",
    "\n",
    "# 2nd Convolution 5x5 filter, 2x2 stride\n",
    "model.add(Convolution2D(24, 5, 5, activation='relu', border_mode='valid', subsample=(2,2), init='he_normal', name='conv_2'))\n",
    "\n",
    "# 3rd Convolution 5x5 filter, 2x2 stride\n",
    "model.add(Convolution2D(36, 5, 5, activation='relu', border_mode='valid', subsample=(2,2), init='he_normal', name='conv_3'))\n",
    "\n",
    "# 4th Convolution 3x3 filter, 0x0 stride\n",
    "model.add(Convolution2D(48, 3, 3, activation='relu', border_mode='valid', subsample=(1,1), init='he_normal', name='conv_4'))\n",
    "\n",
    "# 5th Convolution 3x3 filter, 0x0 stride\n",
    "model.add(Convolution2D(64, 3, 3, activation='relu', border_mode='valid', subsample=(1,1), init='he_normal', name='conv_5'))\n",
    "\n",
    "# Flatten layer\n",
    "model.add(Flatten())\n",
    "\n",
    "# 1st Fully connected layer, size=100\n",
    "model.add(Dense(100, init='he_normal', name='hidden_1'))\n",
    "model.add(Dropout(keep_prob))\n",
    "\n",
    "# 2nd Fully connected layer, size=50\n",
    "model.add(Dense(50, init='he_normal', name='hidden_2'))\n",
    "model.add(Dropout(keep_prob))\n",
    "\n",
    "# 3rd Fully connected layer, size=10\n",
    "model.add(Dense(10, init='he_normal', name='hidden_3'))\n",
    "model.add(Dropout(keep_prob))\n",
    "\n",
    "# Output layer\n",
    "model.add(Dense(1, init='he_normal', name='output'))"
   ]
  },
  {
   "cell_type": "code",
   "execution_count": 20,
   "metadata": {
    "collapsed": false
   },
   "outputs": [
    {
     "name": "stdout",
     "output_type": "stream",
     "text": [
      "____________________________________________________________________________________________________\n",
      "Layer (type)                     Output Shape          Param #     Connected to                     \n",
      "====================================================================================================\n",
      "lambda_3 (Lambda)                (None, 160, 320, 3)   0           lambda_input_3[0][0]             \n",
      "____________________________________________________________________________________________________\n",
      "conv_1 (Convolution2D)           (None, 78, 158, 3)    228         lambda_3[0][0]                   \n",
      "____________________________________________________________________________________________________\n",
      "conv_2 (Convolution2D)           (None, 37, 77, 24)    1824        conv_1[0][0]                     \n",
      "____________________________________________________________________________________________________\n",
      "conv_3 (Convolution2D)           (None, 17, 37, 36)    21636       conv_2[0][0]                     \n",
      "____________________________________________________________________________________________________\n",
      "conv_4 (Convolution2D)           (None, 15, 35, 48)    15600       conv_3[0][0]                     \n",
      "____________________________________________________________________________________________________\n",
      "conv_5 (Convolution2D)           (None, 13, 33, 64)    27712       conv_4[0][0]                     \n",
      "____________________________________________________________________________________________________\n",
      "flatten_2 (Flatten)              (None, 27456)         0           conv_5[0][0]                     \n",
      "____________________________________________________________________________________________________\n",
      "hidden_1 (Dense)                 (None, 100)           2745700     flatten_2[0][0]                  \n",
      "____________________________________________________________________________________________________\n",
      "dropout_1 (Dropout)              (None, 100)           0           hidden_1[0][0]                   \n",
      "____________________________________________________________________________________________________\n",
      "hidden_2 (Dense)                 (None, 50)            5050        dropout_1[0][0]                  \n",
      "____________________________________________________________________________________________________\n",
      "dropout_2 (Dropout)              (None, 50)            0           hidden_2[0][0]                   \n",
      "____________________________________________________________________________________________________\n",
      "hidden_3 (Dense)                 (None, 10)            510         dropout_2[0][0]                  \n",
      "____________________________________________________________________________________________________\n",
      "dropout_3 (Dropout)              (None, 10)            0           hidden_3[0][0]                   \n",
      "____________________________________________________________________________________________________\n",
      "output (Dense)                   (None, 1)             11          dropout_3[0][0]                  \n",
      "====================================================================================================\n",
      "Total params: 2,818,271\n",
      "Trainable params: 2,818,271\n",
      "Non-trainable params: 0\n",
      "____________________________________________________________________________________________________\n"
     ]
    }
   ],
   "source": [
    "model.summary()"
   ]
  },
  {
   "cell_type": "code",
   "execution_count": 21,
   "metadata": {
    "collapsed": false
   },
   "outputs": [
    {
     "name": "stdout",
     "output_type": "stream",
     "text": [
      "Train on 651 samples, validate on 280 samples\n",
      "Epoch 1/5\n",
      "651/651 [==============================] - 11s - loss: 608.8874 - acc: 0.0230 - val_loss: 12.9182 - val_acc: 0.0000e+00\b\b\b\b\b\b\b\b\b\b\b\b\b\b\b\b\b\b\b\b\b\b\b\b\b\b\b\b\b\b\b\b\b\b\b\b\b\b\b\b\b\b\b\b\b\b\b\b\b\b\b\b\b\b\b\b\b\b\b\b\b\b\b\b\b\b\b\b\b\b\b\b\b\b\b\b\b\b\b\b\b\b\b\b\b\b\b\b\b\b\b\b\b\b\b\b\b\b\b\b\b\b\b\b\b\b\b\b\b\b\b\b\b\b\b\b\b\b\b\b\b\b\b\b\b\b\b\b\b\b\b\b\b\b\b\b\b\b\b\b\b\b\b\b\b\b\b\b\b\b\b\b\b\b\b\b\b\b\b\b\b\b\b\b\b\b\b\b\b\b\b\b\b\b\b\b\b\b\b\b\b\b\b\b\b\b\b\b\b\b\b\b\b\b\b\b\b\b\b\b\b\b\b\b\b\b\b\b\b\b\b\b\b\b\b\b\b\b\b\b\b\b\b\b\b\b\b\b\b\b\b\b\b\b\b\b\b\b\b\b\b\b\b\b\b\b\b\b\b\b\b\b\b\b\b\b\b\b\b\b\b\b\b\b\b\b\b\b\b\b\b\b\b\b\b\b\b\b\b\b\b\b\b\b\b\b\b\b\b\b\b\b\b\b\b\b\b\b\b\b\b\b\b\b\b\b\b\b\b\b\b\b\b\b\b\b\b\b\b\b\b\b\b\b\b\b\b\b\b\b\b\b\b\b\b\b\b\b\b\b\b\b\b\b\b\b\b\b\b\b\b\b\b\b\b\b\b\b\b\b\b\b\b\b\b\b\n",
      "Epoch 2/5\n",
      "651/651 [==============================] - 10s - loss: 33.4001 - acc: 0.0415 - val_loss: 2.0175 - val_acc: 0.0000e+00\b\b\b\b\b\b\b\b\b\b\b\b\b\b\b\b\b\b\b\b\b\b\b\b\b\b\b\b\b\b\b\b\b\b\b\b\b\b\b\b\b\b\b\b\b\b\b\b\b\b\b\b\b\b\b\b\b\b\b\b\b\b\b\b\b\b\b\b\b\b\b\b\b\b\b\b\b\b\b\b\b\b\b\b\b\b\b\b\b\b\b\b\b\b\b\b\b\b\b\b\b\b\b\b\b\b\b\b\b\b\b\b\b\b\b\b\b\b\b\b\b\b\b\b\b\b\b\b\b\b\b\b\b\b\b\b\b\b\b\b\b\b\b\b\b\b\b\b\b\b\b\b\b\b\b\b\b\b\b\b\b\b\b\b\b\b\b\b\b\b\b\b\b\b\b\b\b\b\b\b\b\b\b\b\b\b\b\b\b\b\b\b\b\b\b\b\b\b\b\b\b\b\b\b\b\b\b\b\b\b\b\b\b\b\b\b\b\b\b\b\b\b\b\b\b\b\b\b\b\b\b\b\b\b\b\b\b\b\b\b\b\b\b\b\b\b\b\b\b\b\b\b\b\b\b\b\b\b\b\b\b\b\b\b\b\b\b\b\b\b\b\b\b\b\b\b\b\b\b\b\b\b\b\b\b\b\b\b\b\b\b\b\b\b\b\b\b\b\b\b\b\b\b\b\b\b\b\b\b\b\b\b\b\b\b\b\b\b\b\b\b\b\b\b\b\b\b\b\b\b\b\b\b\b\b\b\b\b\b\b\b\b\b\b\b\b\b\b\b\b\b\b\b\b\b\b\b\b\b\b\b\b\b\n",
      "Epoch 3/5\n",
      "651/651 [==============================] - 10s - loss: 2.1057 - acc: 0.1598 - val_loss: 0.0432 - val_acc: 0.6179\b\b\b\b\b\b\b\b\b\b\b\b\b\b\b\b\b\b\b\b\b\b\b\b\b\b\b\b\b\b\b\b\b\b\b\b\b\b\b\b\b\b\b\b\b\b\b\b\b\b\b\b\b\b\b\b\b\b\b\b\b\b\b\b\b\b\b\b\b\b\b\b\b\b\b\b\b\b\b\b\b\b\b\b\b\b\b\b\b\b\b\b\b\b\b\b\b\b\b\b\b\b\b\b\b\b\b\b\b\b\b\b\b\b\b\b\b\b\b\b\b\b\b\b\b\b\b\b\b\b\b\b\b\b\b\b\b\b\b\b\b\b\b\b\b\b\b\b\b\b\b\b\b\b\b\b\b\b\b\b\b\b\b\b\b\b\b\b\b\b\b\b\b\b\b\b\b\b\b\b\b\b\b\b\b\b\b\b\b\b\b\b\b\b\b\b\b\b\b\b\b\b\b\b\b\b\b\b\b\b\b\b\b\b\b\b\b\b\b\b\b\b\b\b\b\b\b\b\b\b\b\b\b\b\b\b\b\b\b\b\b\b\b\b\b\b\b\b\b\b\b\b\b\b\b\b\b\b\b\b\b\b\b\b\b\b\b\b\b\b\b\b\b\b\b\b\b\b\b\b\b\b\b\b\b\b\b\b\b\b\b\b\b\b\b\b\b\b\b\b\b\b\b\b\b\b\b\b\b\b\b\b\b\b\b\b\b\b\b\b\b\b\b\b\b\b\b\b\b\b\b\b\b\b\b\b\b\b\b\b\b\b\b\b\b\b\b\b\b\b\b\b\b\b\b\b\b\b\b\b\b\b\n",
      "Epoch 4/5\n",
      "651/651 [==============================] - 10s - loss: 0.0617 - acc: 0.3748 - val_loss: 0.0130 - val_acc: 0.6179\b\b\b\b\b\b\b\b\b\b\b\b\b\b\b\b\b\b\b\b\b\b\b\b\b\b\b\b\b\b\b\b\b\b\b\b\b\b\b\b\b\b\b\b\b\b\b\b\b\b\b\b\b\b\b\b\b\b\b\b\b\b\b\b\b\b\b\b\b\b\b\b\b\b\b\b\b\b\b\b\b\b\b\b\b\b\b\b\b\b\b\b\b\b\b\b\b\b\b\b\b\b\b\b\b\b\b\b\b\b\b\b\b\b\b\b\b\b\b\b\b\b\b\b\b\b\b\b\b\b\b\b\b\b\b\b\b\b\b\b\b\b\b\b\b\b\b\b\b\b\b\b\b\b\b\b\b\b\b\b\b\b\b\b\b\b\b\b\b\b\b\b\b\b\b\b\b\b\b\b\b\b\b\b\b\b\b\b\b\b\b\b\b\b\b\b\b\b\b\b\b\b\b\b\b\b\b\b\b\b\b\b\b\b\b\b\b\b\b\b\b\b\b\b\b\b\b\b\b\b\b\b\b\b\b\b\b\b\b\b\b\b\b\b\b\b\b\b\b\b\b\b\b\b\b\b\b\b\b\b\b\b\b\b\b\b\b\b\b\b\b\b\b\b\b\b\b\b\b\b\b\b\b\b\b\b\b\b\b\b\b\b\b\b\b\b\b\b\b\b\b\b\b\b\b\b\b\b\b\b\b\b\b\b\b\b\b\b\b\b\b\b\b\b\b\b\b\b\b\b\b\b\b\b\b\b\b\b\b\b\b\b\b\b\b\b\b\b\b\b\b\b\b\b\b\b\b\b\b\b\b\b\n",
      "Epoch 5/5\n",
      "651/651 [==============================] - 10s - loss: 0.0184 - acc: 0.3840 - val_loss: 0.0101 - val_acc: 0.6179\b\b\b\b\b\b\b\b\b\b\b\b\b\b\b\b\b\b\b\b\b\b\b\b\b\b\b\b\b\b\b\b\b\b\b\b\b\b\b\b\b\b\b\b\b\b\b\b\b\b\b\b\b\b\b\b\b\b\b\b\b\b\b\b\b\b\b\b\b\b\b\b\b\b\b\b\b\b\b\b\b\b\b\b\b\b\b\b\b\b\b\b\b\b\b\b\b\b\b\b\b\b\b\b\b\b\b\b\b\b\b\b\b\b\b\b\b\b\b\b\b\b\b\b\b\b\b\b\b\b\b\b\b\b\b\b\b\b\b\b\b\b\b\b\b\b\b\b\b\b\b\b\b\b\b\b\b\b\b\b\b\b\b\b\b\b\b\b\b\b\b\b\b\b\b\b\b\b\b\b\b\b\b\b\b\b\b\b\b\b\b\b\b\b\b\b\b\b\b\b\b\b\b\b\b\b\b\b\b\b\b\b\b\b\b\b\b\b\b\b\b\b\b\b\b\b\b\b\b\b\b\b\b\b\b\b\b\b\b\b\b\b\b\b\b\b\b\b\b\b\b\b\b\b\b\b\b\b\b\b\b\b\b\b\b\b\b\b\b\b\b\b\b\b\b\b\b\b\b\b\b\b\b\b\b\b\b\b\b\b\b\b\b\b\b\b\b\b\b\b\b\b\b\b\b\b\b\b\b\b\b\b\b\b\b\b\b\b\b\b\b\b\b\b\b\b\b\b\b\b\b\b\b\b\b\b\b\b\b\b\b\b\b\b\b\b\b\b\b\b\b\b\b\b\b\b\b\b\b\b\b\b\n"
     ]
    }
   ],
   "source": [
    "model.compile(optimizer=Adam(lr=learning_rate), loss='mse', metrics=['accuracy'])\n",
    "history = model.fit(X_train, y_train, batch_size=batch_size, nb_epoch=epochs, verbose=1, validation_split=.3)"
   ]
  },
  {
   "cell_type": "code",
   "execution_count": 26,
   "metadata": {
    "collapsed": false
   },
   "outputs": [],
   "source": [
    "## Saving the model\n",
    "model_file = './results/model.json'\n",
    "weights_file = './results/model.h5'\n",
    "if Path(model_file).is_file():\n",
    "    os.remove(model_file)\n",
    "json_string = model.to_json()\n",
    "with open(model_file,'w' ) as f:\n",
    "    json.dump(json_string, f)\n",
    "if Path(weights_file).is_file():\n",
    "    os.remove(weights_file)\n",
    "model.save_weights(weights_file)"
   ]
  },
  {
   "cell_type": "markdown",
   "metadata": {},
   "source": [
    "# Logbook\n",
    "\n",
    "- 24-01:\n",
    "    - I created some initial data, it's far from perfect but it will help me to set up the base of my network.\n",
    "    - I created this notebook and started to add code to it.\n",
    "    - I loaded the csv file and split the data into steering angles and images (with a throttle threshold)\n",
    "    - I plotted the steering angle to get a grasp of the data\n",
    "    - I loaded the image files and normalized them\n",
    "    - I save the data to a train.p file to avoid lengthy reloading\n",
    "- 25-01:\n",
    "    - I created a cell to recover the stored training data\n",
    "    - I defined the basic NVIDIA model and added dropout layers to prevent overfitting\n",
    "    - I created a cell to save the results"
   ]
  },
  {
   "cell_type": "code",
   "execution_count": null,
   "metadata": {
    "collapsed": true
   },
   "outputs": [],
   "source": []
  }
 ],
 "metadata": {
  "kernelspec": {
   "display_name": "Python 3",
   "language": "python",
   "name": "python3"
  },
  "language_info": {
   "codemirror_mode": {
    "name": "ipython",
    "version": 3
   },
   "file_extension": ".py",
   "mimetype": "text/x-python",
   "name": "python",
   "nbconvert_exporter": "python",
   "pygments_lexer": "ipython3",
   "version": "3.5.2"
  },
  "widgets": {
   "state": {},
   "version": "1.1.2"
  }
 },
 "nbformat": 4,
 "nbformat_minor": 2
}
